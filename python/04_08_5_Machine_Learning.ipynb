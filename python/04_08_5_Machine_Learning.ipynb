{
 "cells": [
  {
   "cell_type": "markdown",
   "metadata": {},
   "source": [
    "### Step 5: Machine Learning Model Evaluation\n",
    "\n",
    "This notebook loads feature and label data from a csv file, which was generated in the previous \"data wrangling\" step. The last column in the csv file are labels. The rest columns are features.\n",
    "\n",
    "We use the data to train and evaluate various machine learning models. The purpose of this notebook is to find out the accuracy of these machine learning models with the training features. The training features and model parameters can be tweaked in order to find the optimal model which is most suitable for our research goal.\n",
    "\n",
    "Here we use scikit-learn as example. You can choose other machine learning platforms, such as TensorFlow, Keras and PyTorch. If you don't like coding, maybe try Ludwig or Northstar."
   ]
  },
  {
   "cell_type": "code",
   "execution_count": 1,
   "metadata": {
    "scrolled": false
   },
   "outputs": [
    {
     "name": "stdout",
     "output_type": "stream",
     "text": [
      "Cross validate the machine learning model 10 times.\n",
      "Evaluate the 10 scores to decide if the model is good enough to be used to predict new data.\n",
      "\n",
      "Scores: [0.92, 0.79, 0.55, 0.67, 0.88, 0.81, 0.83, 0.79, 0.77, 0.52]\n",
      "Score Mean: 0.75, Score Standard Deviation: 0.1272\n",
      "Accuracy: 0.75 (+/- 0.2543)      #95% confidence interval of the score estimate\n"
     ]
    },
    {
     "data": {
      "image/png": "[encoded data removed]",
      "text/plain": [
       "<Figure size 648x504 with 1 Axes>"
      ]
     },
     "metadata": {
      "needs_background": "light"
     },
     "output_type": "display_data"
    }
   ],
   "source": [
    "#Import the tools for machine learning\n",
    "from sklearn.model_selection import train_test_split\n",
    "from sklearn.model_selection import cross_val_score\n",
    "from sklearn.svm import SVC\n",
    "from sklearn.ensemble import RandomForestClassifier\n",
    "from sklearn import preprocessing\n",
    "import matplotlib.pyplot as plt\n",
    "import numpy as np\n",
    "import pandas as pd\n",
    "\n",
    "#read in data for machine learning training and testing\n",
    "all_data_in_file = pd.read_csv('testcase_1_deposit_feature_and_label.csv')\n",
    "labels = all_data_in_file.iloc[:,-1]\n",
    "data = all_data_in_file.iloc[:,:-1]\n",
    "\n",
    "#choose classifier\n",
    "classifier = 'RFC' #random forest\n",
    "#classifier = 'SVC' #support vector Classification \n",
    "\n",
    "#preprocess features and split data for training and testing\n",
    "data = preprocessing.scale(data)\n",
    "train_data, test_data, train_labels, test_labels = train_test_split(data, labels, test_size=0.2, random_state=1)\n",
    "\n",
    "if classifier == 'RFC':\n",
    "    #create and train the random forest\n",
    "    #multi-core CPUs can use: rf = RandomForestClassifier(n_estimators=100, n_jobs=2)\n",
    "    #n_estimators use between 64-128 doi: 10.1007/978-3-642-31537-4_13\n",
    "    clf = RandomForestClassifier(n_estimators=128, n_jobs=1,class_weight=None)\n",
    "elif classifier == 'SVC':\n",
    "    clf = SVC(probability=True,class_weight=None, gamma='auto')\n",
    "    \n",
    "#cross validate the estimator    \n",
    "#https://scikit-learn.org/stable/modules/cross_validation.html#cross-validation\n",
    "scores = cross_val_score(clf, data, labels, cv=10)\n",
    "print('Cross validate the machine learning model 10 times.')\n",
    "print('Evaluate the 10 scores to decide if the model is good enough to be used to predict new data.\\n')\n",
    "print(f\"Scores: {[round(x,2) for x in scores]}\")\n",
    "print(f\"Score Mean: {round(np.mean(scores), 2)}, Score Standard Deviation: {round(np.std(scores),4)}\")\n",
    "print(f\"Accuracy: {round(np.mean(scores), 2)} (+/- {round(np.std(scores)*2,4)})\\\n",
    "      #95% confidence interval of the score estimate\")\n",
    "\n",
    "#plot the bar chart\n",
    "fig, ax = plt.subplots(figsize=(9, 7))\n",
    "plt.bar(np.arange(10), scores)\n",
    "ax.set_ylabel('Scores', fontsize=18)\n",
    "ax.set_title('10-Fold Cross Validation Scores',fontsize=18)\n",
    "ax.set_xticks(np.arange(10))\n",
    "plt.show()"
   ]
  },
  {
   "cell_type": "code",
   "execution_count": 2,
   "metadata": {},
   "outputs": [
    {
     "name": "stdout",
     "output_type": "stream",
     "text": [
      "Use the train dataset to train the model and predict on the test dataset.\n",
      "The bar chart indicates the model's predication of deposit probabilities.\n",
      "Score with train and test data: 0.88\n"
     ]
    },
    {
     "ename": "ValueError",
     "evalue": "all the input array dimensions for the concatenation axis must match exactly, but along dimension 0, the array at index 0 has size 62 and the array at index 1 has size 105",
     "output_type": "error",
     "traceback": [
      "\u001b[0;31m---------------------------------------------------------------------------\u001b[0m",
      "\u001b[0;31mValueError\u001b[0m                                Traceback (most recent call last)",
      "\u001b[0;32m<ipython-input-2-befaa28ec766>\u001b[0m in \u001b[0;36m<module>\u001b[0;34m\u001b[0m\n\u001b[1;32m     12\u001b[0m \u001b[0;31m#plot the probabilities\u001b[0m\u001b[0;34m\u001b[0m\u001b[0;34m\u001b[0m\u001b[0;34m\u001b[0m\u001b[0m\n\u001b[1;32m     13\u001b[0m \u001b[0mfig\u001b[0m\u001b[0;34m,\u001b[0m \u001b[0max\u001b[0m \u001b[0;34m=\u001b[0m \u001b[0mplt\u001b[0m\u001b[0;34m.\u001b[0m\u001b[0msubplots\u001b[0m\u001b[0;34m(\u001b[0m\u001b[0mfigsize\u001b[0m\u001b[0;34m=\u001b[0m\u001b[0;34m(\u001b[0m\u001b[0;36m9\u001b[0m\u001b[0;34m,\u001b[0m \u001b[0;36m7\u001b[0m\u001b[0;34m)\u001b[0m\u001b[0;34m)\u001b[0m\u001b[0;34m\u001b[0m\u001b[0;34m\u001b[0m\u001b[0m\n\u001b[0;32m---> 14\u001b[0;31m \u001b[0mtmp\u001b[0m \u001b[0;34m=\u001b[0m \u001b[0mnp\u001b[0m\u001b[0;34m.\u001b[0m\u001b[0mc_\u001b[0m\u001b[0;34m[\u001b[0m\u001b[0mnp\u001b[0m\u001b[0;34m.\u001b[0m\u001b[0marange\u001b[0m\u001b[0;34m(\u001b[0m\u001b[0;36m62\u001b[0m\u001b[0;34m)\u001b[0m\u001b[0;34m,\u001b[0m \u001b[0mtest_labels\u001b[0m\u001b[0;34m,\u001b[0m \u001b[0mproba\u001b[0m\u001b[0;34m]\u001b[0m\u001b[0;34m\u001b[0m\u001b[0;34m\u001b[0m\u001b[0m\n\u001b[0m\u001b[1;32m     15\u001b[0m \u001b[0mdeposit\u001b[0m \u001b[0;34m=\u001b[0m \u001b[0mtmp\u001b[0m\u001b[0;34m[\u001b[0m\u001b[0mtmp\u001b[0m\u001b[0;34m[\u001b[0m\u001b[0;34m:\u001b[0m\u001b[0;34m,\u001b[0m\u001b[0;36m1\u001b[0m\u001b[0;34m]\u001b[0m\u001b[0;34m==\u001b[0m\u001b[0;36m1\u001b[0m\u001b[0;34m]\u001b[0m\u001b[0;34m\u001b[0m\u001b[0;34m\u001b[0m\u001b[0m\n\u001b[1;32m     16\u001b[0m \u001b[0mnon_deposit\u001b[0m \u001b[0;34m=\u001b[0m \u001b[0mtmp\u001b[0m\u001b[0;34m[\u001b[0m\u001b[0mtmp\u001b[0m\u001b[0;34m[\u001b[0m\u001b[0;34m:\u001b[0m\u001b[0;34m,\u001b[0m\u001b[0;36m1\u001b[0m\u001b[0;34m]\u001b[0m\u001b[0;34m==\u001b[0m\u001b[0;36m0\u001b[0m\u001b[0;34m]\u001b[0m\u001b[0;34m\u001b[0m\u001b[0;34m\u001b[0m\u001b[0m\n",
      "\u001b[0;32m/opt/conda/envs/pyGEOL/lib/python3.7/site-packages/numpy/lib/index_tricks.py\u001b[0m in \u001b[0;36m__getitem__\u001b[0;34m(self, key)\u001b[0m\n\u001b[1;32m    404\u001b[0m                 \u001b[0mobjs\u001b[0m\u001b[0;34m[\u001b[0m\u001b[0mk\u001b[0m\u001b[0;34m]\u001b[0m \u001b[0;34m=\u001b[0m \u001b[0mobjs\u001b[0m\u001b[0;34m[\u001b[0m\u001b[0mk\u001b[0m\u001b[0;34m]\u001b[0m\u001b[0;34m.\u001b[0m\u001b[0mastype\u001b[0m\u001b[0;34m(\u001b[0m\u001b[0mfinal_dtype\u001b[0m\u001b[0;34m)\u001b[0m\u001b[0;34m\u001b[0m\u001b[0;34m\u001b[0m\u001b[0m\n\u001b[1;32m    405\u001b[0m \u001b[0;34m\u001b[0m\u001b[0m\n\u001b[0;32m--> 406\u001b[0;31m         \u001b[0mres\u001b[0m \u001b[0;34m=\u001b[0m \u001b[0mself\u001b[0m\u001b[0;34m.\u001b[0m\u001b[0mconcatenate\u001b[0m\u001b[0;34m(\u001b[0m\u001b[0mtuple\u001b[0m\u001b[0;34m(\u001b[0m\u001b[0mobjs\u001b[0m\u001b[0;34m)\u001b[0m\u001b[0;34m,\u001b[0m \u001b[0maxis\u001b[0m\u001b[0;34m=\u001b[0m\u001b[0maxis\u001b[0m\u001b[0;34m)\u001b[0m\u001b[0;34m\u001b[0m\u001b[0;34m\u001b[0m\u001b[0m\n\u001b[0m\u001b[1;32m    407\u001b[0m \u001b[0;34m\u001b[0m\u001b[0m\n\u001b[1;32m    408\u001b[0m         \u001b[0;32mif\u001b[0m \u001b[0mmatrix\u001b[0m\u001b[0;34m:\u001b[0m\u001b[0;34m\u001b[0m\u001b[0;34m\u001b[0m\u001b[0m\n",
      "\u001b[0;32m<__array_function__ internals>\u001b[0m in \u001b[0;36mconcatenate\u001b[0;34m(*args, **kwargs)\u001b[0m\n",
      "\u001b[0;31mValueError\u001b[0m: all the input array dimensions for the concatenation axis must match exactly, but along dimension 0, the array at index 0 has size 62 and the array at index 1 has size 105"
     ]
    },
    {
     "data": {
      "image/png": "[encoded data removed]",
      "text/plain": [
       "<Figure size 648x504 with 1 Axes>"
      ]
     },
     "metadata": {
      "needs_background": "light"
     },
     "output_type": "display_data"
    }
   ],
   "source": [
    "#train the machine learning model with train and test data\n",
    "#and then predict\n",
    "clf.fit(train_data, train_labels)\n",
    "score=clf.score(test_data, test_labels)\n",
    "print('Use the train dataset to train the model and predict on the test dataset.')\n",
    "print('The bar chart indicates the model\\'s predication of deposit probabilities.')\n",
    "print(f'Score with train and test data: {round(score,2)}')\n",
    "\n",
    "proba=clf.predict_proba(test_data)\n",
    "predict_labels=clf.predict(test_data)\n",
    "\n",
    "#plot the probabilities\n",
    "fig, ax = plt.subplots(figsize=(9, 7))\n",
    "tmp = np.c_[np.arange(62), test_labels, proba]\n",
    "deposit = tmp[tmp[:,1]==1]\n",
    "non_deposit = tmp[tmp[:,1]==0]\n",
    "ax.bar(deposit[:,0], deposit[:,3], color='blue', label='deposit')\n",
    "ax.bar(non_deposit[:,0], non_deposit[:,3], color='red', label='non-deposit')\n",
    "ax.set_ylabel('Deposit Probabilities', fontsize=18)\n",
    "ax.set_title('Deposit Probabilities for Deposits and Non-deposits',fontsize=18)\n",
    "plt.legend(loc='upper right')\n",
    "plt.show()"
   ]
  },
  {
   "cell_type": "code",
   "execution_count": null,
   "metadata": {},
   "outputs": [],
   "source": [
    "print('The bar chart shows the model\\'s predication of deposit probabilities and ')\n",
    "print('the colors show the correct prediction, false positive and false negative predictions.')\n",
    "#plot the probabilities with true, false positive and false negative\n",
    "fig, ax = plt.subplots(figsize=(9, 7))\n",
    "tmp = np.c_[np.arange(62), predict_labels, test_labels, proba]\n",
    "correct_predict = tmp[tmp[:,1]==tmp[:,2]]\n",
    "tmp=tmp[tmp[:,1]!=tmp[:,2]]\n",
    "false_positive = tmp[tmp[:,1]==1]\n",
    "false_negative = tmp[tmp[:,1]==0]\n",
    "ax.bar(correct_predict[:,0], correct_predict[:,4], color='blue', label='correct')\n",
    "ax.bar(false_positive[:,0], false_positive[:,4], color='orange', label='false positive')\n",
    "ax.bar(false_negative[:,0], false_negative[:,4], color='red', label='false negative')\n",
    "ax.set_ylabel('Deposit Probabilities', fontsize=18)\n",
    "ax.set_title('Deposit Probabilities and Test Results',fontsize=18)\n",
    "plt.legend(loc='upper right')\n",
    "plt.show()"
   ]
  },
  {
   "cell_type": "code",
   "execution_count": null,
   "metadata": {},
   "outputs": [],
   "source": [
    "if classifier == 'RFC':\n",
    "    print('For Random Forest model, the bar chart shows the weight of each feature in decision making.')\n",
    "    print(clf.feature_importances_)\n",
    "    #plot the feature importance if using Random Forest Classifier. \n",
    "    fig, ax = plt.subplots(figsize=(10, 5))\n",
    "    ax.barh(np.arange(len(clf.feature_importances_)), clf.feature_importances_)\n",
    "    ax.set_xlabel('Importance', fontsize=18)\n",
    "    ax.set_title('Feature Importance',fontsize=18)\n",
    "    ax.set_yticks(np.arange(len(clf.feature_importances_)))\n",
    "    #feature_names = ['Seafloor Age', 'Distance Along Trench', 'Trench Absolute Orthogonal',\n",
    "    #                'Convergence Orthogonal Velocity', 'Convergence Parallel Velocity']\n",
    "    feature_names = all_data_in_file.columns\n",
    "    ax.set_yticklabels(feature_names, rotation=0, fontsize=18)\n",
    "    ax.invert_yaxis() \n",
    "    plt.show()\n",
    "   "
   ]
  },
  {
   "cell_type": "markdown",
   "metadata": {},
   "source": [
    "Run the machine learning model on the whole trench sampling points dataset to see which areas have higher proboblilites of mineral deposit. "
   ]
  },
  {
   "cell_type": "code",
   "execution_count": null,
   "metadata": {},
   "outputs": [],
   "source": [
    "#train the ML model\n",
    "clf.fit(data, labels)\n",
    "\n",
    "#read in test data and predict\n",
    "from parameters import parameters as p\n",
    "import pandas as pd\n",
    "import re\n",
    "deposit_len = int(re.split(r'_|\\.', p['input_file'])[-2])\n",
    "#load data \n",
    "coreg_input_data = pd.read_csv(p['input_file'])\n",
    "coreg_output_data = pd.read_csv('coreg_output/0_vector_subStats.out', header=None)\n",
    "all_data = pd.concat([coreg_output_data, \n",
    "                  coreg_input_data, \n",
    "                  pd.DataFrame([1]*deposit_len+[0]*(len(coreg_input_data)-deposit_len), columns=['Label'])], \n",
    "                 axis=1)\n",
    "\n",
    "positive=all_data[0:deposit_len]\n",
    "negative=all_data[deposit_len-1:deposit_len*2]\n",
    "\n",
    "all_trench_data=all_data[deposit_len*2-1:]\n",
    "all_trench_data=all_trench_data.dropna()\n",
    "#display(all_trench_data)\n",
    "\n",
    "trench_data = np.genfromtxt('testcase_1_trench_feature_and_label.csv',delimiter=',',skip_header=1)\n",
    "print(trench_data.shape)\n",
    "test_data = preprocessing.scale(trench_data[:,:-1])\n",
    "trench_proba=clf.predict_proba(test_data)\n",
    "\n",
    "#make a plot\n",
    "fig, ax = plt.subplots(figsize=(16, 8))\n",
    "plt.xlim([0,220])\n",
    "cb = plt.scatter(all_trench_data['age'],all_trench_data[1], c=trench_proba[:,1],s=10,marker='o',edgecolor='none')\n",
    "\n",
    "p1 = plt.scatter(positive['age'], positive[1], \n",
    "                 color='red',s=20,marker='o')\n",
    "p2 = plt.scatter(negative['age'], negative[1],\n",
    "                 color='blue',s=20,marker='o')\n",
    "\n",
    "fig.colorbar(cb, shrink=0.5, label='Probability')\n",
    "plt.title('Predicted Probabilities on Trench Points')\n",
    "plt.ylabel('Reconstructed Latitude (degrees)')\n",
    "plt.xlabel('Age (Ma)')\n",
    "ax.legend([p2,p1],[\"Non-Deposit\",\"Deposit\"],\n",
    "            loc=3, borderaxespad=0.3,numpoints=1)\n",
    "\n",
    "plt.show()"
   ]
  },
  {
   "cell_type": "markdown",
   "metadata": {},
   "source": [
    "Plot the predicted probobilities on test dataset in \"distance along trench\" and \"age\" space."
   ]
  },
  {
   "cell_type": "code",
   "execution_count": null,
   "metadata": {},
   "outputs": [],
   "source": [
    "%matplotlib inline\n",
    "\n",
    "import matplotlib.pyplot as plt\n",
    "from scipy.interpolate import griddata\n",
    "import numpy as np\n",
    "from scipy import misc, ndimage\n",
    "from parameters import parameters as p\n",
    "\n",
    "#load data \n",
    "tmp_1 = np.genfromtxt('testcase_1_deposit_all_data.csv',delimiter=',',skip_header=1)\n",
    "tmp_2 = np.genfromtxt('testcase_1_deposit_feature_and_label.csv',delimiter=',',skip_header=1)\n",
    "all_deposit_data = np.c_[tmp_2[:,:-1], tmp_1[:,3], tmp_2[:,-1]]\n",
    "labels = all_deposit_data[:,-1]\n",
    "features = all_deposit_data[:,:-1]\n",
    "\n",
    "#preprocess features and split data for training and testing\n",
    "train_data, test_data, train_labels, test_labels = train_test_split(\n",
    "    features, labels, test_size=0.2, random_state=1)\n",
    "preprocessed_train_data = preprocessing.scale(train_data[:,:-1])\n",
    "preprocessed_test_data = preprocessing.scale(test_data[:,:-1])\n",
    "\n",
    "if classifier == 'RFC':\n",
    "    ml_model = RandomForestClassifier(n_estimators=128, n_jobs=1,class_weight=None)\n",
    "elif classifier == 'SVC':\n",
    "    ml_model = SVC(probability=True,class_weight=None, gamma='auto')\n",
    "ml_model.fit(preprocessed_train_data, train_labels)\n",
    "proba=ml_model.predict_proba(preprocessed_test_data)\n",
    "\n",
    "train_positive=train_data[train_labels==1]\n",
    "train_negative=train_data[train_labels==0]\n",
    "test_positive=test_data[test_labels==1]\n",
    "test_negative=test_data[test_labels==0]\n",
    "\n",
    "fig = plt.figure(figsize=(12,6),dpi=150)\n",
    "ax = plt.axes()\n",
    "plt.xlim([0,230])\n",
    "plt.ylim([0,6500])\n",
    "\n",
    "grid_x, grid_y = np.mgrid[0:231, 0:6501]\n",
    "grid_data = griddata(list(zip(test_data[:,-1], test_data[:,1]* 6371. * np.pi / 180)), proba[:,1], \n",
    "                     (grid_x, grid_y), method='linear', fill_value=0)\n",
    "grid_data = ndimage.gaussian_filter(grid_data, sigma=10)\n",
    "\n",
    "\n",
    "p1=ax.scatter(train_positive[:,-1], train_positive[:,1]* 6371. * np.pi / 180, 50, marker='p',c='red')\n",
    "p2=ax.scatter(test_positive[:,-1], test_positive[:,1]* 6371. * np.pi / 180, 50, marker='o',c='red')\n",
    "p3=ax.scatter(train_negative[:,-1], train_negative[:,1]* 6371. * np.pi / 180, 50, marker='s',c='blue')\n",
    "p4=ax.scatter(test_negative[:,-1], test_negative[:,1]* 6371. * np.pi / 180, 50, marker='D',c='blue')\n",
    "\n",
    "plt.legend([p1,p2,p3,p4],\\\n",
    "           [\"Train Positive\",\"Test Positive\",\"Training Negative\",'Test Negative'],\n",
    "           loc=1)\n",
    "\n",
    "cb=plt.imshow(grid_data.T, extent=(0,230,0, 6500), origin='lower', aspect='auto')\n",
    "fig.colorbar(cb, shrink=0.5, label='Probobilities')\n",
    "plt.xlabel('Age(Ma)')\n",
    "plt.ylabel('Distance Along Trench (km)')\n",
    "plt.title('Deposit Probabilities Predicted by Machine Learning Model')\n",
    "plt.grid()\n",
    "plt.show()"
   ]
  },
  {
   "cell_type": "markdown",
   "metadata": {},
   "source": [
    "### THE END"
   ]
  },
  {
   "cell_type": "code",
   "execution_count": null,
   "metadata": {},
   "outputs": [],
   "source": []
  }
 ],
 "metadata": {
  "kernelspec": {
   "display_name": "Python 3",
   "language": "python",
   "name": "python3"
  },
  "language_info": {
   "codemirror_mode": {
    "name": "ipython",
    "version": 3
   },
   "file_extension": ".py",
   "mimetype": "text/x-python",
   "name": "python",
   "nbconvert_exporter": "python",
   "pygments_lexer": "ipython3",
   "version": "3.7.7"
  }
 },
 "nbformat": 4,
 "nbformat_minor": 4
}
