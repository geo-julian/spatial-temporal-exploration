{
 "cells": [
  {
   "cell_type": "code",
   "execution_count": 4,
   "metadata": {},
   "outputs": [
    {
     "name": "stdout",
     "output_type": "stream",
     "text": [
      "done!\n"
     ]
    }
   ],
   "source": [
    "import pygplates\n",
    "import pandas as pd\n",
    "import numpy as np\n",
    "\n",
    "from parameters import parameters as param\n",
    "\n",
    "data = pd.read_csv('../data/db_ore_2.csv')\n",
    "\n",
    "point_features = []\n",
    "for index,row in data.iterrows():\n",
    "    point = pygplates.PointOnSphere(float(row.lat),float(row.lon))\n",
    "    point_feature = pygplates.Feature()\n",
    "    point_feature.set_geometry(point)\n",
    "    point_feature.set_name(str(index))\n",
    "    point_features.append(point_feature)\n",
    "\n",
    "static_polygons = pygplates.FeatureCollection(\n",
    "    '../data/Shapefiles/StaticPolygons/Global_EarthByte_GPlates_PresentDay_StaticPlatePolygons_2015_v1.shp')\n",
    "rotation_model = pygplates.RotationModel('../data/Global_EarthByte_230-0Ma_GK07_AREPS.rot')\n",
    "\n",
    "# partition features\n",
    "points = pygplates.partition_into_plates(static_polygons, rotation_model, point_features)\n",
    "plate_ids = [p.get_reconstruction_plate_id() for p in points]\n",
    "data['plate_id'] = plate_ids\n",
    "\n",
    "#random ages\n",
    "randomAges=np.random.randint(1, 230, size=data.shape[0])\n",
    "data_random=[]\n",
    "for index,row in data.iterrows():\n",
    "    data_random.append([int(data.shape[0]+index+1), row.lon, row.lat, int(randomAges[index]), int(row.plate_id)])\n",
    "\n",
    "data = data.append(pd.DataFrame(data_random, columns=data.columns))\n",
    "\n",
    "#trench points\n",
    "trench_points = np.loadtxt('./convergence_data/subStats_0.00.csv') #all subduction points at time 0    \n",
    "trench_points=trench_points[(trench_points[:,9])==101] #subduction points in plate 101\n",
    "trench_data=[]\n",
    "i=0\n",
    "for p in trench_points:\n",
    "    for t in range(231):\n",
    "        trench_data.append([int(data.shape[0]+i+1), p[0], p[1], int(t), int(p[9])]) \n",
    "        i+=1\n",
    "        \n",
    "data = data.append(pd.DataFrame(trench_data, columns=data.columns))\n",
    "\n",
    "# data are ready and write them to file\n",
    "with open('coregistration_input_data_Julian.csv',\"w+\") as f:\n",
    "    for index,row in data.iterrows():\n",
    "        f.write('{0:d}, {1:.2f}, {2:.2f}, {3:d}, {4:d}'.format(\n",
    "            int(row.id),row.lon,row.lat,int(row.age),int(row.plate_id)))\n",
    "        f.write('\\n')\n",
    "        \n",
    "print('done!')"
   ]
  },
  {
   "cell_type": "code",
   "execution_count": null,
   "metadata": {},
   "outputs": [],
   "source": []
  }
 ],
 "metadata": {
  "kernelspec": {
   "display_name": "Python 3",
   "language": "python",
   "name": "python3"
  },
  "language_info": {
   "codemirror_mode": {
    "name": "ipython",
    "version": 3
   },
   "file_extension": ".py",
   "mimetype": "text/x-python",
   "name": "python",
   "nbconvert_exporter": "python",
   "pygments_lexer": "ipython3",
   "version": "3.7.6"
  }
 },
 "nbformat": 4,
 "nbformat_minor": 4
}
