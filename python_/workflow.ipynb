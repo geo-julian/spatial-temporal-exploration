{
 "cells": [
  {
   "cell_type": "markdown",
   "metadata": {},
   "source": [
    "### The easiest way to run this notebook is use Docker. \n",
    "\n",
    "See instructions here [https://github.com/EarthByte/spatial-temporal-exploration/blob/master/README.md#docker](https://github.com/EarthByte/spatial-temporal-exploration/blob/master/README.md#docker)\n",
    "\n",
    "Click and run the notebook for each step. You need to do this step by step in order for the first time because the steps might depend on the output of the prior steps."
   ]
  },
  {
   "cell_type": "markdown",
   "metadata": {},
   "source": [
    "## Step 1: \n",
    "#### Generate Subduction Convergence Kinematics Statistics \n",
    "[1_Generate_Subduction_Convergence_Kinematics_Statistics.ipynb](1_Generate_Subduction_Convergence_Kinematics_Statistics.ipynb)"
   ]
  },
  {
   "cell_type": "markdown",
   "metadata": {},
   "source": [
    "##  Step 2:\n",
    "#### Prepare Input Data For Coregistration\n",
    "[2_Prepare_Input_File_For_Coregistration.ipynb](2_Prepare_Input_File_For_Coregistration.ipynb)"
   ]
  },
  {
   "cell_type": "markdown",
   "metadata": {},
   "source": [
    "## Step 3:\n",
    "#### Coregistration\n",
    "[3_Coregistration.ipynb](3_Coregistration.ipynb)"
   ]
  },
  {
   "cell_type": "markdown",
   "metadata": {},
   "source": [
    "## Step 4:\n",
    "#### Data Wrangling\n",
    "[4_Data_Wrangling.ipynb](4_Data_Wrangling.ipynb)"
   ]
  },
  {
   "cell_type": "markdown",
   "metadata": {},
   "source": [
    "## Step 5:\n",
    "\n",
    "#### Evaluate Machine Learning Models\n",
    "\n",
    "[5_Machine_Learning.ipynb](5_Machine_Learning.ipynb)\n"
   ]
  },
  {
   "cell_type": "code",
   "execution_count": null,
   "metadata": {},
   "outputs": [],
   "source": []
  },
  {
   "cell_type": "code",
   "execution_count": null,
   "metadata": {},
   "outputs": [],
   "source": []
  }
 ],
 "metadata": {
  "kernelspec": {
   "display_name": "Python 3",
   "language": "python",
   "name": "python3"
  },
  "language_info": {
   "codemirror_mode": {
    "name": "ipython",
    "version": 3
   },
   "file_extension": ".py",
   "mimetype": "text/x-python",
   "name": "python",
   "nbconvert_exporter": "python",
   "pygments_lexer": "ipython3",
   "version": "3.7.6"
  }
 },
 "nbformat": 4,
 "nbformat_minor": 2
}
