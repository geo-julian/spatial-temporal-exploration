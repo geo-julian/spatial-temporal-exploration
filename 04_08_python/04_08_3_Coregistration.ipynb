{
 "cells": [
  {
   "cell_type": "markdown",
   "metadata": {},
   "source": [
    "## Step 3: Coregistration\n",
    "\n",
    "In this step, we are going to connect the selected mineral deposits in Step 2 with the trench sample points we have generated in Step 1. The mineral deposits csv file contains only 5 columns -- index, longitude, latitude, age and plate id. These attributes are not enough for machine learning analysis. In order to obtain more data, we need to associate these mineral deposits with the trench sample points. We call this process coregistration.\n",
    "\n",
    "The coregistration method is simple. For a given mineral deposit, the coregistration process will try to find the nearest trench point within a certain region. If found, the subduction convergence kinematics statistics of the trench point will be associated with the mineral deposit. The attributes retrieved from the trench sample points will be used as input data for machine learning models later.\n",
    "\n",
    "First, let's run the coregistration script and see what will happen. The coregistration script can be configurated via parameters.py, such as the input mineral deposits file, output file name and region of interest, etc.\n",
    "\n",
    "Relevant parameters in [parameters.py](parameters.py):\n",
    "\n",
    "* input_file\n",
    "* output_dir\n",
    "* regions\n",
    "* vector_files\n",
    "* grid_files\n"
   ]
  },
  {
   "cell_type": "code",
   "execution_count": 1,
   "metadata": {},
   "outputs": [
    {
     "name": "stdout",
     "output_type": "stream",
     "text": [
      "The file name of the mineral deposits:  coregistration_input_data_NA_269.csv\n",
      "The output folder:  coreg_output\n",
      "The region of interest(in degree):  [5, 10]\n",
      "The subduction convergence kinematics statistics file name template:  ['./convergence_data/subStats_{time:.2f}.csv']\n",
      "\n",
      "\n",
      "region of interest: 5\n",
      "the length of input data is: 28828\n",
      "region of interest: 10\n",
      "the length of input data is: 3172\n",
      "The coregistration output data have been saved in folder coreg_output successfully!\n",
      "Time taken: 100.05527520179749  seconds\n"
     ]
    }
   ],
   "source": [
    "from parameters import parameters as p\n",
    "\n",
    "#let's print out some of the parameters\n",
    "#you can change the 'input_file' in parameters.py to use different mineral deposits. \n",
    "#Remember the files we have created in step 2?\n",
    "print('The file name of the mineral deposits: ', p['input_file'])\n",
    "print('The output folder: ', p['output_dir'])\n",
    "print('The region of interest(in degree): ', p['regions'])\n",
    "print('The subduction convergence kinematics statistics file name template: ', p['vector_files'])\n",
    "print('\\n')\n",
    "\n",
    "import coregistration\n",
    "#run the coregistration script\n",
    "coregistration.main()\n",
    "#some files should have been created at this point\n",
    "#let's move to the next cell and check the results"
   ]
  },
  {
   "cell_type": "code",
   "execution_count": null,
   "metadata": {},
   "outputs": [],
   "source": [
    "import pandas as pd\n",
    "import Utils\n",
    "\n",
    "#read in the coregistration output file\n",
    "data = pd.read_csv(\"./coreg_output/0_vector_subStats.out\", header=None) \n",
    "display(data.head())#let's print the first 5 rows\n",
    "\n",
    "print('\\nThe meaning of the columns: \\n')\n",
    "Utils.print_columns()\n",
    "\n",
    "input_data = pd.read_csv(p['input_file'])\n",
    "display(input_data.head())\n",
    "\n",
    "#the input data and output data has the same length\n",
    "print('The shape of the output data: ', data.shape)\n",
    "print('The shape of the input data: ',input_data.shape)"
   ]
  },
  {
   "cell_type": "markdown",
   "metadata": {},
   "source": [
    "We can see in above code cell that the input data and output data has the same length. It means, for each input mineral deposit, there is one corresponding data row in the output file. \n",
    "\n",
    "The coregistration program takes the mineral deposit coordinates and uses age and plate id to reconstruct the deposits back in time. And then the program searches the nearby subduction trench, if found, copy the subduction convergence kinematics statistics."
   ]
  },
  {
   "cell_type": "markdown",
   "metadata": {},
   "source": [
    "##### Now we plot some maps to see the attributes acquired from coregistration."
   ]
  },
  {
   "cell_type": "code",
   "execution_count": null,
   "metadata": {},
   "outputs": [],
   "source": [
    "%matplotlib inline\n",
    "\n",
    "import matplotlib.pyplot as plt\n",
    "import numpy as np\n",
    "import cartopy.crs as ccrs\n",
    "import matplotlib.ticker as mticker\n",
    "from cartopy.mpl.gridliner import LONGITUDE_FORMATTER, LATITUDE_FORMATTER\n",
    "\n",
    "def set_ax(ax):\n",
    "    ax.stock_img()\n",
    "    ax.set_extent([-170, -90, 10, 70])\n",
    "\n",
    "    gl = ax.gridlines(crs=ccrs.PlateCarree(), draw_labels=True,\n",
    "                      linewidth=1, color='gray', alpha=0.5, linestyle='--')\n",
    "    gl.xlabels_top = False\n",
    "    gl.ylabels_right = False\n",
    "    gl.xlocator = mticker.FixedLocator([-180, -150, -120, -90, -80, -70, -60,-50,-40,-30, 0, 180])\n",
    "    gl.ylocator = mticker.FixedLocator([-90,-50,-40, -30, -20,-10, 0, 10, 20, 30, 40,50, 90])\n",
    "    gl.xformatter = LONGITUDE_FORMATTER\n",
    "    gl.yformatter = LATITUDE_FORMATTER\n",
    "    gl.xlabel_style = {'color': 'gray', 'weight': 'bold', 'fontsize': '5'}\n",
    "    gl.ylabel_style = {'color': 'gray', 'weight': 'bold', 'fontsize': '5'}\n",
    "\n",
    "trench_file = './convergence_data/subStats_0.00.csv'\n",
    "trench_data= np.genfromtxt(trench_file)\n",
    "\n",
    "import re\n",
    "deposit_len = int(re.split(r'_|\\.', p['input_file'])[-2])\n",
    "\n",
    "fig, (ax1, ax2) = plt.subplots(1, 2, subplot_kw={'projection': ccrs.PlateCarree()},figsize=(12,12),dpi=150)\n",
    "set_ax(ax1)\n",
    "set_ax(ax2)\n",
    "\n",
    "cb_1 = ax1.scatter(input_data.loc[:deposit_len,'lon'], input_data.loc[:deposit_len,'lat'], 50, marker='.',\n",
    "                c=data.loc[:deposit_len,6],  cmap=plt.cm.jet)\n",
    "cb_2 = ax2.scatter(input_data.loc[:deposit_len,'lon'], input_data.loc[:deposit_len,'lat'], 50, marker='.',\n",
    "                c=data.loc[:deposit_len,24],  cmap=plt.cm.jet)\n",
    "\n",
    "ax1.title.set_text('Deposits Coloured By Convergence Rate')\n",
    "ax2.title.set_text('Deposits Coloured By Subduction Volumn')\n",
    "cbar_1 = fig.colorbar(cb_1, shrink=0.5, ax=[ax1], orientation='horizontal', pad=0.05)\n",
    "cbar_1.set_label('Convergence Rate (cm/yr)',size=10)\n",
    "cbar_1.ax.tick_params(labelsize=7)\n",
    "cbar_2 = fig.colorbar(cb_2, shrink=0.5, ax=[ax2], orientation='horizontal', pad=0.05)\n",
    "cbar_2.set_label('Subduction Volumn ($km^3$/yr)',size=10)\n",
    "cbar_2.ax.tick_params(labelsize=7)\n",
    "plt.show()"
   ]
  },
  {
   "cell_type": "markdown",
   "metadata": {},
   "source": [
    "#### This is the end of step 3 and now open the step 4 notebook -- \"4_Data_Wrangling.ipynb\""
   ]
  },
  {
   "cell_type": "code",
   "execution_count": null,
   "metadata": {},
   "outputs": [],
   "source": []
  }
 ],
 "metadata": {
  "kernelspec": {
   "display_name": "Python 3",
   "language": "python",
   "name": "python3"
  },
  "language_info": {
   "codemirror_mode": {
    "name": "ipython",
    "version": 3
   },
   "file_extension": ".py",
   "mimetype": "text/x-python",
   "name": "python",
   "nbconvert_exporter": "python",
   "pygments_lexer": "ipython3",
   "version": "3.7.7"
  }
 },
 "nbformat": 4,
 "nbformat_minor": 4
}
